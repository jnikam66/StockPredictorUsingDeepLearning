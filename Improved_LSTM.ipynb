{
 "cells": [
  {
   "cell_type": "markdown",
   "metadata": {},
   "source": [
    "# Improved LSTM Model\n",
    "# Get the Data\n",
    "In the following cells we download and save the S&P 500 dataset.\n",
    "### Step 1 :\n",
    "Define a function to get historical data from google finance"
   ]
  },
  {
   "cell_type": "code",
   "execution_count": 1,
   "metadata": {},
   "outputs": [],
   "source": [
    "from googlefinance.client import get_price_data, get_prices_data, get_prices_time_data"
   ]
  },
  {
   "cell_type": "code",
   "execution_count": 2,
   "metadata": {},
   "outputs": [],
   "source": [
    "stock = raw_input(\"Observe the market(select an option from below): \\n 1. Dow Jones \\n 2. NYSE COMPOSITE (DJ) \\n 3. S&P 500\\n\")\n",
    "period = raw_input(\"Select time period(In years):\")"
   ]
  },
  {
   "cell_type": "code",
   "execution_count": 3,
   "metadata": {},
   "outputs": [
    {
     "name": "stdout",
     "output_type": "stream",
     "text": [
      "Calculating results for S&P 500 stock market\n"
     ]
    }
   ],
   "source": [
    "if stock == '1':\n",
    "    param = {\n",
    "        'q': \".DJI\", # Stock symbol (ex: \"AAPL\")\n",
    "        'i': \"86400\", # Interval size in seconds (\"86400\" = 1 day intervals)\n",
    "        'x': \"INDEXDJX\", # Stock exchange symbol on which stock is traded (ex: \"NASD\")\n",
    "        'p': period+'Y' # Period (Ex: \"1Y\" = 1 year)\n",
    "    }\n",
    "    print (\"Calculating results for Dow Jones stock market\")\n",
    "elif stock == '2':\n",
    "    param = {\n",
    "         'q': \".NYA\", # Stock symbol (ex: \"AAPL\")\n",
    "        'i': \"86400\", # Interval size in seconds (\"86400\" = 1 day intervals)\n",
    "        'x': \"INDEXNYSEGIS\", # Stock exchange symbol on which stock is traded (ex: \"NASD\")\n",
    "        'p': period+'Y' # Period (Ex: \"1Y\" = 1 year)\n",
    "    }\n",
    "    print (\"Calculating results for NYSE COMPOSITE (DJ) stock market\")\n",
    "elif stock == '3':\n",
    "    param = {\n",
    "        'q': \".INX\", # Stock symbol (ex: \"AAPL\")\n",
    "        'i': \"86400\", # Interval size in seconds (\"86400\" = 1 day intervals)\n",
    "        'x': \"INDEXSP\", # Stock exchange symbol on which stock is traded (ex: \"NASD\")\n",
    "        'p': period+'Y' # Period (Ex: \"1Y\" = 1 year)\n",
    "    }\n",
    "    print (\"Calculating results for S&P 500 stock market\")\n",
    "else:\n",
    "    param = {\n",
    "        'q': \".INX\", # Stock symbol (ex: \"AAPL\")\n",
    "        'i': \"86400\", # Interval size in seconds (\"86400\" = 1 day intervals)\n",
    "        'x': \"INDEXSP\", # Stock exchange symbol on which stock is traded (ex: \"NASD\")\n",
    "        'p': period+'Y' # Period (Ex: \"1Y\" = 1 year)\n",
    "    }\n",
    "    print (\"Wrong Input!! Calculating for S&P 500 stock market\")"
   ]
  },
  {
   "cell_type": "markdown",
   "metadata": {},
   "source": [
    "### Step 2: \n",
    "get the data of desired firm from Stooq static data provider."
   ]
  },
  {
   "cell_type": "code",
   "execution_count": 4,
   "metadata": {},
   "outputs": [
    {
     "name": "stdout",
     "output_type": "stream",
     "text": [
      "                        Open     High      Low    Close      Volume\n",
      "2008-05-02 20:00:00  1413.60  1422.72  1406.25  1413.90           0\n",
      "2008-05-05 20:00:00  1412.77  1415.70  1404.37  1407.49           0\n",
      "2008-05-06 20:00:00  1405.60  1421.57  1397.10  1418.26           0\n",
      "2008-05-07 20:00:00  1417.49  1419.54  1391.16  1392.57           0\n",
      "2008-05-08 20:00:00  1394.29  1402.35  1389.39  1397.68           0\n",
      "2008-05-09 20:00:00  1394.90  1394.90  1384.11  1388.28           0\n",
      "2008-05-12 20:00:00  1389.40  1404.06  1386.20  1403.58           0\n",
      "2008-05-13 20:00:00  1404.40  1406.30  1396.26  1403.04           0\n",
      "2008-05-14 20:00:00  1405.65  1420.19  1405.65  1408.66           0\n",
      "2008-05-15 20:00:00  1408.36  1424.40  1406.87  1423.57           0\n",
      "2008-05-16 20:00:00  1423.89  1425.82  1414.35  1425.35           0\n",
      "2008-05-19 20:00:00  1425.28  1440.24  1421.63  1426.63           0\n",
      "2008-05-20 20:00:00  1424.49  1424.49  1409.09  1413.40           0\n",
      "2008-05-21 20:00:00  1414.06  1419.12  1388.81  1390.71           0\n",
      "2008-05-22 20:00:00  1390.83  1399.07  1390.23  1394.35           0\n",
      "2008-05-23 20:00:00  1392.20  1392.20  1373.72  1375.93           0\n",
      "2008-05-27 20:00:00  1375.97  1387.40  1373.07  1385.35           0\n",
      "2008-05-28 20:00:00  1386.54  1391.25  1378.16  1390.84           0\n",
      "2008-05-29 20:00:00  1390.50  1406.32  1388.59  1398.26           0\n",
      "2008-05-30 20:00:00  1398.36  1404.46  1398.08  1400.38           0\n",
      "2008-06-02 20:00:00  1399.62  1399.62  1377.79  1385.67           0\n",
      "2008-06-03 20:00:00  1386.42  1393.12  1370.12  1377.65           0\n",
      "2008-06-04 20:00:00  1376.26  1388.18  1371.74  1377.20           0\n",
      "2008-06-05 20:00:00  1377.48  1404.05  1377.48  1404.05           0\n",
      "2008-06-06 20:00:00  1400.06  1400.06  1359.90  1360.68           0\n",
      "2008-06-09 20:00:00  1360.83  1370.63  1350.62  1361.76           0\n",
      "2008-06-10 20:00:00  1358.98  1366.84  1351.56  1358.44           0\n",
      "2008-06-11 20:00:00  1357.09  1357.09  1335.47  1335.49           0\n",
      "2008-06-12 20:00:00  1335.78  1353.03  1331.29  1339.87           0\n",
      "2008-06-13 20:00:00  1341.81  1360.03  1341.71  1357.50           0\n",
      "...                      ...      ...      ...      ...         ...\n",
      "2018-03-19 20:00:00  2741.38  2741.38  2694.59  2712.92  2191394840\n",
      "2018-03-20 20:00:00  2715.05  2724.22  2710.05  2716.94  2088202415\n",
      "2018-03-21 20:00:00  2714.99  2739.14  2709.79  2711.93  2074883961\n",
      "2018-03-22 20:00:00  2691.36  2695.68  2641.59  2643.69  2492921032\n",
      "2018-03-23 20:00:00  2646.71  2657.67  2585.89  2588.26  2558217934\n",
      "2018-03-26 20:00:00  2619.35  2661.36  2601.81  2658.55  2434497989\n",
      "2018-03-27 20:00:00  2667.57  2674.78  2596.12  2612.62  2501316081\n",
      "2018-03-28 20:00:00  2611.30  2632.65  2593.06  2605.00  2574191549\n",
      "2018-03-29 20:00:00  2614.41  2659.07  2609.72  2640.87  2348028811\n",
      "2018-04-02 20:00:00  2633.45  2638.30  2553.80  2581.88  2468994069\n",
      "2018-04-03 20:00:00  2592.17  2619.14  2575.49  2614.45  2169555248\n",
      "2018-04-04 20:00:00  2584.04  2649.86  2573.61  2644.69  2220731180\n",
      "2018-04-05 20:00:00  2657.36  2672.08  2649.58  2662.84  2008036352\n",
      "2018-04-06 20:00:00  2645.82  2656.88  2586.27  2604.47  2187111865\n",
      "2018-04-09 20:00:00  2617.18  2653.55  2610.79  2613.16  1923050595\n",
      "2018-04-10 20:00:00  2638.41  2665.45  2635.78  2656.87  2132599583\n",
      "2018-04-11 20:00:00  2643.89  2661.43  2639.25  2642.19  1788526146\n",
      "2018-04-12 20:00:00  2653.83  2674.72  2653.83  2663.99  1922966393\n",
      "2018-04-13 20:00:00  2676.90  2680.26  2645.05  2656.30  1823268887\n",
      "2018-04-16 20:00:00  2670.10  2686.49  2665.16  2677.84  1866870482\n",
      "2018-04-17 20:00:00  2692.74  2713.34  2692.05  2706.39  1925630582\n",
      "2018-04-18 20:00:00  2710.11  2717.49  2703.63  2708.64  1965630369\n",
      "2018-04-19 20:00:00  2701.16  2702.84  2681.90  2693.13  2168636678\n",
      "2018-04-20 20:00:00  2692.56  2693.94  2660.61  2670.14  2308509070\n",
      "2018-04-23 20:00:00  2675.40  2682.86  2657.99  2670.29  1858105237\n",
      "2018-04-24 20:00:00  2680.80  2683.55  2617.32  2634.56  2413969096\n",
      "2018-04-25 20:00:00  2634.92  2645.30  2612.67  2639.40  2203579981\n",
      "2018-04-26 20:00:00  2651.65  2676.48  2647.16  2666.94  2543293987\n",
      "2018-04-27 20:00:00  2675.47  2677.35  2659.01  2669.91  2104565445\n",
      "2018-04-30 20:00:00  2675.05  2682.92  2648.04  2648.05  2335651561\n",
      "\n",
      "[2514 rows x 5 columns]\n"
     ]
    }
   ],
   "source": [
    "data = get_price_data(param)\n",
    "print(data)"
   ]
  },
  {
   "cell_type": "markdown",
   "metadata": {},
   "source": [
    "### Step 3: \n",
    "Write the data to a csv file."
   ]
  },
  {
   "cell_type": "code",
   "execution_count": 5,
   "metadata": {},
   "outputs": [],
   "source": [
    "data.to_csv('googleImprovedLSTM.csv',index = False)"
   ]
  },
  {
   "cell_type": "markdown",
   "metadata": {},
   "source": [
    "## Preprocess the data\n",
    "### Step 1 : \n",
    "Get the data from csv file."
   ]
  },
  {
   "cell_type": "code",
   "execution_count": 6,
   "metadata": {},
   "outputs": [
    {
     "name": "stdout",
     "output_type": "stream",
     "text": [
      "      Open     High      Low    Close  Volume\n",
      "0  1413.60  1422.72  1406.25  1413.90       0\n",
      "1  1412.77  1415.70  1404.37  1407.49       0\n",
      "2  1405.60  1421.57  1397.10  1418.26       0\n",
      "3  1417.49  1419.54  1391.16  1392.57       0\n",
      "4  1394.29  1402.35  1389.39  1397.68       0\n",
      "\n",
      "\n",
      "('Open   --- mean :', 1655.957967382657, '  \\t Std: ', 519.7872046802319, '  \\t Max: ', 2867.23, '  \\t Min: ', 0.0)\n",
      "('High   --- mean :', 1665.3745902943517, '  \\t Std: ', 518.4893963990901, '  \\t Max: ', 2872.87, '  \\t Min: ', 0.0)\n",
      "('Low    --- mean :', 1646.740322195704, '  \\t Std: ', 519.1012284919132, '  \\t Max: ', 2851.48, '  \\t Min: ', 0.0)\n",
      "('Close  --- mean :', 1657.700644391408, '  \\t Std: ', 517.9914545186994, '  \\t Max: ', 2872.87, '  \\t Min: ', 676.53)\n",
      "('Volume --- mean :', 615345319.5918854, '  \\t Std: ', 685128262.4952804, '  \\t Max: ', 4024143782, '  \\t Min: ', 0)\n"
     ]
    }
   ],
   "source": [
    "import numpy as np\n",
    "import pandas as pd\n",
    "\n",
    "data = pd.read_csv('googleImprovedLSTM.csv')\n",
    "print(data.head())\n",
    "\n",
    "print(\"\\n\")\n",
    "print(\"Open   --- mean :\", np.mean(data['Open']),  \"  \\t Std: \", np.std(data['Open']),  \"  \\t Max: \", np.max(data['Open']),  \"  \\t Min: \", np.min(data['Open']))\n",
    "print(\"High   --- mean :\", np.mean(data['High']),  \"  \\t Std: \", np.std(data['High']),  \"  \\t Max: \", np.max(data['High']),  \"  \\t Min: \", np.min(data['High']))\n",
    "print(\"Low    --- mean :\", np.mean(data['Low']),   \"  \\t Std: \", np.std(data['Low']),   \"  \\t Max: \", np.max(data['Low']),   \"  \\t Min: \", np.min(data['Low']))\n",
    "print(\"Close  --- mean :\", np.mean(data['Close']), \"  \\t Std: \", np.std(data['Close']), \"  \\t Max: \", np.max(data['Close']), \"  \\t Min: \", np.min(data['Close']))\n",
    "print(\"Volume --- mean :\", np.mean(data['Volume']),\"  \\t Std: \", np.std(data['Volume']),\"  \\t Max: \", np.max(data['Volume']),\"  \\t Min: \", np.min(data['Volume']))"
   ]
  },
  {
   "cell_type": "markdown",
   "metadata": {},
   "source": [
    "### Step 2 : \n",
    "Remove Unncessary data, i.e., Date and High value"
   ]
  },
  {
   "cell_type": "code",
   "execution_count": 7,
   "metadata": {},
   "outputs": [],
   "source": [
    "# Import sklearn.preprocessing.StandardScaler\n",
    "from sklearn.preprocessing import MinMaxScaler\n",
    "import math"
   ]
  },
  {
   "cell_type": "code",
   "execution_count": 8,
   "metadata": {},
   "outputs": [],
   "source": [
    "def remove_data(data):\n",
    "    \"\"\"\n",
    "    Remove columns from the data\n",
    "    :param data: a record of all the stock prices with columns as  ['Date','Open','High','Low','Close','Volume']\n",
    "    :return: a DataFrame with columns as  ['index','Open','Close','Volume']\n",
    "    \"\"\"\n",
    "    # Define columns of data to keep from historical stock data\n",
    "    item = []\n",
    "    open = []\n",
    "    close = []\n",
    "    volume = []\n",
    "\n",
    "    # Loop through the stock data objects backwards and store factors we want to keep\n",
    "    i_counter = 0\n",
    "    for i in range(len(data) - 1, -1, -1):\n",
    "        #if(math.isnan(float(data['Volume'][i])) == False):      \n",
    "        item.append(i_counter)\n",
    "        open.append(data['Open'][i])\n",
    "        close.append(data['Close'][i])\n",
    "        volume.append(data['Volume'][i])\n",
    "        i_counter += 1\n",
    "\n",
    "    # Create a data frame for stock data\n",
    "    stocks = pd.DataFrame()\n",
    "\n",
    "    # Add factors to data frame\n",
    "    stocks['Item'] = item\n",
    "    stocks['Open'] = open\n",
    "    stocks['Close'] = pd.to_numeric(close)\n",
    "    stocks['Volume'] = pd.to_numeric(volume)\n",
    "\n",
    "    # return new formatted data\n",
    "    return stocks"
   ]
  },
  {
   "cell_type": "code",
   "execution_count": 9,
   "metadata": {},
   "outputs": [
    {
     "name": "stdout",
     "output_type": "stream",
     "text": [
      "   Item     Open    Close      Volume\n",
      "0     0  2675.05  2648.05  2335651561\n",
      "1     1  2675.47  2669.91  2104565445\n",
      "2     2  2651.65  2666.94  2543293987\n",
      "3     3  2634.92  2639.40  2203579981\n",
      "4     4  2680.80  2634.56  2413969096\n",
      "---\n",
      "      Item     Open    Close  Volume\n",
      "2509  2509  1394.29  1397.68       0\n",
      "2510  2510  1417.49  1392.57       0\n",
      "2511  2511  1405.60  1418.26       0\n",
      "2512  2512  1412.77  1407.49       0\n",
      "2513  2513  1413.60  1413.90       0\n"
     ]
    }
   ],
   "source": [
    "stocks = remove_data(data)\n",
    "\n",
    "#Print the dataframe head and tail\n",
    "\n",
    "print(stocks.head())\n",
    "print(\"---\")\n",
    "print(stocks.tail())"
   ]
  },
  {
   "cell_type": "markdown",
   "metadata": {},
   "source": [
    "### Step 2:\n",
    "Visualise raw data."
   ]
  },
  {
   "cell_type": "code",
   "execution_count": 10,
   "metadata": {},
   "outputs": [
    {
     "data": {
      "text/plain": [
       "<Figure size 1800x1200 with 1 Axes>"
      ]
     },
     "metadata": {},
     "output_type": "display_data"
    }
   ],
   "source": [
    "import visualize\n",
    "\n",
    "visualize.plot_basic(stocks)"
   ]
  },
  {
   "cell_type": "markdown",
   "metadata": {},
   "source": [
    "### Step 3 :\n",
    "Normalise the data using minmaxscaler function"
   ]
  },
  {
   "cell_type": "code",
   "execution_count": 11,
   "metadata": {},
   "outputs": [],
   "source": [
    "import preprocess_data as ppd"
   ]
  },
  {
   "cell_type": "code",
   "execution_count": 12,
   "metadata": {},
   "outputs": [
    {
     "name": "stdout",
     "output_type": "stream",
     "text": [
      "   Item      Open     Close    Volume\n",
      "0     0  0.932974  0.897639  0.580410\n",
      "1     1  0.933120  0.907592  0.522985\n",
      "2     2  0.924812  0.906239  0.632009\n",
      "3     3  0.918978  0.893700  0.547590\n",
      "4     4  0.934979  0.891497  0.599871\n",
      "\n",
      "\n",
      "('Open   --- mean :', 0.5775462615076772, '  \\t Std: ', 0.18128549320432333, '  \\t Max: ', 1.0, '  \\t Min: ', 0.0)\n",
      "('Close  --- mean :', 0.4467298525690049, '  \\t Std: ', 0.23584301816599404, '  \\t Max: ', 1.0, '  \\t Min: ', 0.0)\n",
      "('Volume --- mean :', 0.1529133532316429, '  \\t Std: ', 0.17025441922822443, '  \\t Max: ', 1.0, '  \\t Min: ', 0.0)\n"
     ]
    }
   ],
   "source": [
    "stocks = ppd.get_normalised_data(stocks)\n",
    "print(stocks.head())\n",
    "\n",
    "print(\"\\n\")\n",
    "print(\"Open   --- mean :\", np.mean(stocks['Open']),  \"  \\t Std: \", np.std(stocks['Open']),  \"  \\t Max: \", np.max(stocks['Open']),  \"  \\t Min: \", np.min(stocks['Open']))\n",
    "print(\"Close  --- mean :\", np.mean(stocks['Close']), \"  \\t Std: \", np.std(stocks['Close']), \"  \\t Max: \", np.max(stocks['Close']), \"  \\t Min: \", np.min(stocks['Close']))\n",
    "print(\"Volume --- mean :\", np.mean(stocks['Volume']),\"  \\t Std: \", np.std(stocks['Volume']),\"  \\t Max: \", np.max(stocks['Volume']),\"  \\t Min: \", np.min(stocks['Volume']))"
   ]
  },
  {
   "cell_type": "markdown",
   "metadata": {},
   "source": [
    "### Step 4 : \n",
    "Visualize the data again"
   ]
  },
  {
   "cell_type": "code",
   "execution_count": 13,
   "metadata": {},
   "outputs": [
    {
     "data": {
      "image/png": "[encoded data removed]",
      "text/plain": [
       "<Figure size 432x288 with 1 Axes>"
      ]
     },
     "metadata": {},
     "output_type": "display_data"
    }
   ],
   "source": [
    "visualize.plot_basic(stocks)"
   ]
  },
  {
   "cell_type": "markdown",
   "metadata": {},
   "source": [
    "### Step 5:\n",
    "Log the normalised data for future resuablilty"
   ]
  },
  {
   "cell_type": "code",
   "execution_count": 14,
   "metadata": {},
   "outputs": [],
   "source": [
    "stocks.to_csv('google_preprocessedLSTM.csv',index= False)"
   ]
  },
  {
   "cell_type": "markdown",
   "metadata": {},
   "source": [
    "# Long-Short Term Memory Model\n",
    "#### Step 1 : \n",
    "import keras libraries for smooth implementaion of lstm"
   ]
  },
  {
   "cell_type": "code",
   "execution_count": 15,
   "metadata": {},
   "outputs": [
    {
     "name": "stderr",
     "output_type": "stream",
     "text": [
      "/usr/local/lib/python2.7/dist-packages/h5py/__init__.py:36: FutureWarning: Conversion of the second argument of issubdtype from `float` to `np.floating` is deprecated. In future, it will be treated as `np.float64 == np.dtype(float).type`.\n",
      "  from ._conv import register_converters as _register_converters\n",
      "Using TensorFlow backend.\n"
     ]
    },
    {
     "data": {
      "text/html": [
       "<div>\n",
       "<style scoped>\n",
       "    .dataframe tbody tr th:only-of-type {\n",
       "        vertical-align: middle;\n",
       "    }\n",
       "\n",
       "    .dataframe tbody tr th {\n",
       "        vertical-align: top;\n",
       "    }\n",
       "\n",
       "    .dataframe thead th {\n",
       "        text-align: right;\n",
       "    }\n",
       "</style>\n",
       "<table border=\"1\" class=\"dataframe\">\n",
       "  <thead>\n",
       "    <tr style=\"text-align: right;\">\n",
       "      <th></th>\n",
       "      <th>Open</th>\n",
       "      <th>Close</th>\n",
       "      <th>Volume</th>\n",
       "    </tr>\n",
       "  </thead>\n",
       "  <tbody>\n",
       "    <tr>\n",
       "      <th>0</th>\n",
       "      <td>0.932974</td>\n",
       "      <td>0.897639</td>\n",
       "      <td>0.580410</td>\n",
       "    </tr>\n",
       "    <tr>\n",
       "      <th>1</th>\n",
       "      <td>0.933120</td>\n",
       "      <td>0.907592</td>\n",
       "      <td>0.522985</td>\n",
       "    </tr>\n",
       "    <tr>\n",
       "      <th>2</th>\n",
       "      <td>0.924812</td>\n",
       "      <td>0.906239</td>\n",
       "      <td>0.632009</td>\n",
       "    </tr>\n",
       "    <tr>\n",
       "      <th>3</th>\n",
       "      <td>0.918978</td>\n",
       "      <td>0.893700</td>\n",
       "      <td>0.547590</td>\n",
       "    </tr>\n",
       "    <tr>\n",
       "      <th>4</th>\n",
       "      <td>0.934979</td>\n",
       "      <td>0.891497</td>\n",
       "      <td>0.599871</td>\n",
       "    </tr>\n",
       "  </tbody>\n",
       "</table>\n",
       "</div>"
      ],
      "text/plain": [
       "       Open     Close    Volume\n",
       "0  0.932974  0.897639  0.580410\n",
       "1  0.933120  0.907592  0.522985\n",
       "2  0.924812  0.906239  0.632009\n",
       "3  0.918978  0.893700  0.547590\n",
       "4  0.934979  0.891497  0.599871"
      ]
     },
     "metadata": {},
     "output_type": "display_data"
    }
   ],
   "source": [
    "import math\n",
    "import pandas as pd\n",
    "import numpy as np\n",
    "from IPython.display import display\n",
    "\n",
    "from keras.layers.core import Dense, Activation, Dropout\n",
    "from keras.layers.recurrent import LSTM\n",
    "from keras.models import Sequential\n",
    "from keras.metrics import mean_squared_error\n",
    "from sklearn.model_selection import StratifiedKFold\n",
    "\n",
    "import lstm, time #helper libraries\n",
    "\n",
    "import visualize as vs\n",
    "import stock_data as sd\n",
    "import LinearRegressionModel\n",
    "\n",
    "stocks = pd.read_csv('google_preprocessedLSTM.csv')\n",
    "stocks_data = stocks.drop(['Item'], axis =1)\n",
    "\n",
    "display(stocks_data.head())"
   ]
  },
  {
   "cell_type": "markdown",
   "metadata": {},
   "source": [
    "#### Step 2 : \n",
    "Split train and test data sets and Unroll train and test data for lstm model"
   ]
  },
  {
   "cell_type": "code",
   "execution_count": 16,
   "metadata": {},
   "outputs": [
    {
     "name": "stdout",
     "output_type": "stream",
     "text": [
      "('x_train', (1998, 10, 3))\n",
      "('y_train', (1998,))\n",
      "('x_test', (486, 10, 3))\n",
      "('y_test', (486,))\n"
     ]
    }
   ],
   "source": [
    "X_train, X_test,y_train, y_test = sd.train_test_split_lstm(stocks_data, 5)\n",
    "\n",
    "unroll_length = 10\n",
    "X_train = sd.unroll(X_train, unroll_length)\n",
    "X_test = sd.unroll(X_test, unroll_length)\n",
    "y_train = y_train[-X_train.shape[0]:]\n",
    "y_test = y_test[-X_test.shape[0]:]\n",
    "\n",
    "print(\"x_train\", X_train.shape)\n",
    "print(\"y_train\", y_train.shape)\n",
    "print(\"x_test\", X_test.shape)\n",
    "print(\"y_test\", y_test.shape)"
   ]
  },
  {
   "cell_type": "markdown",
   "metadata": {},
   "source": [
    "# Build LSTM Model\n",
    "#### Step 1: \n",
    "Build an improved LSTM model"
   ]
  },
  {
   "cell_type": "code",
   "execution_count": 17,
   "metadata": {},
   "outputs": [
    {
     "name": "stdout",
     "output_type": "stream",
     "text": [
      "('compilation time : ', 0.027193069458007812)\n"
     ]
    }
   ],
   "source": [
    "# Set up hyperparameters\n",
    "batch_size = 128\n",
    "epochs = 30\n",
    "\n",
    "# build improved lstm model\n",
    "model = lstm.build_improved_model( X_train.shape[-1],output_dim = unroll_length, return_sequences=True)\n",
    "\n",
    "start = time.time()\n",
    "#final_model.compile(loss='mean_squared_error', optimizer='adam')\n",
    "model.compile(loss='mean_squared_error', optimizer='adam')\n",
    "print('compilation time : ', time.time() - start)"
   ]
  },
  {
   "cell_type": "markdown",
   "metadata": {},
   "source": [
    "#### Step 2: \n",
    "Train improved LSTM model"
   ]
  },
  {
   "cell_type": "code",
   "execution_count": 18,
   "metadata": {},
   "outputs": [
    {
     "name": "stdout",
     "output_type": "stream",
     "text": [
      "Train on 1898 samples, validate on 100 samples\n",
      "Epoch 1/30\n",
      " - 2s - loss: 0.0570 - val_loss: 0.0139\n",
      "Epoch 2/30\n",
      " - 1s - loss: 0.0114 - val_loss: 0.0189\n",
      "Epoch 3/30\n",
      " - 1s - loss: 0.0063 - val_loss: 0.0042\n",
      "Epoch 4/30\n",
      " - 1s - loss: 0.0043 - val_loss: 0.0014\n",
      "Epoch 5/30\n",
      " - 1s - loss: 0.0038 - val_loss: 8.2955e-04\n",
      "Epoch 6/30\n",
      " - 1s - loss: 0.0034 - val_loss: 8.9824e-04\n",
      "Epoch 7/30\n",
      " - 1s - loss: 0.0032 - val_loss: 0.0011\n",
      "Epoch 8/30\n",
      " - 1s - loss: 0.0031 - val_loss: 5.9866e-04\n",
      "Epoch 9/30\n",
      " - 1s - loss: 0.0027 - val_loss: 8.2124e-04\n",
      "Epoch 10/30\n",
      " - 1s - loss: 0.0026 - val_loss: 6.8294e-04\n",
      "Epoch 11/30\n",
      " - 1s - loss: 0.0025 - val_loss: 3.8460e-04\n",
      "Epoch 12/30\n",
      " - 1s - loss: 0.0025 - val_loss: 5.4639e-04\n",
      "Epoch 13/30\n",
      " - 1s - loss: 0.0022 - val_loss: 4.5896e-04\n",
      "Epoch 14/30\n",
      " - 1s - loss: 0.0022 - val_loss: 5.1558e-04\n",
      "Epoch 15/30\n",
      " - 1s - loss: 0.0022 - val_loss: 4.3427e-04\n",
      "Epoch 16/30\n",
      " - 1s - loss: 0.0021 - val_loss: 5.0461e-04\n",
      "Epoch 17/30\n",
      " - 1s - loss: 0.0020 - val_loss: 3.4858e-04\n",
      "Epoch 18/30\n",
      " - 1s - loss: 0.0020 - val_loss: 3.7394e-04\n",
      "Epoch 19/30\n",
      " - 1s - loss: 0.0019 - val_loss: 3.5740e-04\n",
      "Epoch 20/30\n",
      " - 1s - loss: 0.0018 - val_loss: 4.5914e-04\n",
      "Epoch 21/30\n",
      " - 1s - loss: 0.0019 - val_loss: 3.9040e-04\n",
      "Epoch 22/30\n",
      " - 1s - loss: 0.0019 - val_loss: 4.7139e-04\n",
      "Epoch 23/30\n",
      " - 1s - loss: 0.0016 - val_loss: 4.8918e-04\n",
      "Epoch 24/30\n",
      " - 1s - loss: 0.0017 - val_loss: 3.6189e-04\n",
      "Epoch 25/30\n",
      " - 1s - loss: 0.0017 - val_loss: 3.7951e-04\n",
      "Epoch 26/30\n",
      " - 1s - loss: 0.0016 - val_loss: 3.6875e-04\n",
      "Epoch 27/30\n",
      " - 1s - loss: 0.0016 - val_loss: 3.9422e-04\n",
      "Epoch 28/30\n",
      " - 1s - loss: 0.0016 - val_loss: 3.7077e-04\n",
      "Epoch 29/30\n",
      " - 1s - loss: 0.0016 - val_loss: 4.7956e-04\n",
      "Epoch 30/30\n",
      " - 1s - loss: 0.0017 - val_loss: 4.9464e-04\n"
     ]
    },
    {
     "data": {
      "text/plain": [
       "<keras.callbacks.History at 0x7f69cf288e10>"
      ]
     },
     "execution_count": 18,
     "metadata": {},
     "output_type": "execute_result"
    }
   ],
   "source": [
    "model.fit(X_train, y_train, batch_size=batch_size, epochs=epochs, verbose=2, validation_split=0.05)"
   ]
  },
  {
   "cell_type": "markdown",
   "metadata": {},
   "source": [
    "#### Step 3: \n",
    "Make prediction on improved LSTM model"
   ]
  },
  {
   "cell_type": "code",
   "execution_count": 19,
   "metadata": {},
   "outputs": [],
   "source": [
    "# Generate predictions \n",
    "predictions = model.predict(X_test, batch_size=batch_size)"
   ]
  },
  {
   "cell_type": "markdown",
   "metadata": {},
   "source": [
    "#### Step 4: \n",
    "plot the results"
   ]
  },
  {
   "cell_type": "code",
   "execution_count": 20,
   "metadata": {},
   "outputs": [
    {
     "data": {
      "image/png": "[encoded data removed]",
      "text/plain": [
       "<Figure size 432x288 with 1 Axes>"
      ]
     },
     "metadata": {},
     "output_type": "display_data"
    }
   ],
   "source": [
    "vs.plot_lstm_prediction(predictions, y_test)"
   ]
  },
  {
   "cell_type": "markdown",
   "metadata": {},
   "source": [
    "#### Step 5: \n",
    "Get the test score"
   ]
  },
  {
   "cell_type": "code",
   "execution_count": 21,
   "metadata": {},
   "outputs": [
    {
     "name": "stdout",
     "output_type": "stream",
     "text": [
      "Train Score: 0.00049039 MSE (0.02214477 RMSE)\n",
      "Test Score: 0.00070768 MSE (0.02660232 RMSE)\n"
     ]
    }
   ],
   "source": [
    "trainScore = model.evaluate(X_train, y_train, verbose=0)\n",
    "print('Train Score: %.8f MSE (%.8f RMSE)' % (trainScore, math.sqrt(trainScore)))\n",
    "\n",
    "testScore = model.evaluate(X_test, y_test, verbose=0)\n",
    "print('Test Score: %.8f MSE (%.8f RMSE)' % (testScore, math.sqrt(testScore)))"
   ]
  }
 ],
 "metadata": {
  "kernelspec": {
   "display_name": "Python 2",
   "language": "python",
   "name": "python2"
  },
  "language_info": {
   "codemirror_mode": {
    "name": "ipython",
    "version": 2
   },
   "file_extension": ".py",
   "mimetype": "text/x-python",
   "name": "python",
   "nbconvert_exporter": "python",
   "pygments_lexer": "ipython2",
   "version": "2.7.12"
  }
 },
 "nbformat": 4,
 "nbformat_minor": 2
}
